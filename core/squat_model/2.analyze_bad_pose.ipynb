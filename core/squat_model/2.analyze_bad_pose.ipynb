{
 "cells": [
  {
   "cell_type": "code",
   "execution_count": 2,
   "metadata": {},
   "source": [
    "import mediapipe as mp\n",
    "import cv2\n",
    "import numpy as np\n",
    "import pandas as pd\n",
    "import matplotlib.pyplot as plt\n",
    "import seaborn as sns\n",
    "\n",
    "import warnings\n",
    "warnings.filterwarnings('ignore')\n",
    "\n",
    "# Drawing helpers\n",
    "mp_drawing = mp.solutions.drawing_utils\n",
    "mp_pose = mp.solutions.pose"
   ],
   "outputs": []
  },
  {
   "cell_type": "markdown",
   "metadata": {},
   "source": [
    "### Analyze the width distance\n",
    "\n",
    "1. Extract keypoints of shoulder, foot and knee from the dataset\n",
    "1. Calculate shoulder width, 2 foot width and 2 knees width\n",
    "1. Calculate the ratio between those widths to figure out the correct feet placement and how much should the knee flare out during the workout"
   ]
  },
  {
   "cell_type": "code",
   "execution_count": 2,
   "metadata": {},
   "source": [
    "from math import sqrt\n",
    "\n",
    "\n",
    "def rescale_frame(frame, percent=50):\n",
    "    '''\n",
    "    Rescale a frame to a certain percentage compare to its original frame\n",
    "    '''\n",
    "    width = int(frame.shape[1] * percent/ 100)\n",
    "    height = int(frame.shape[0] * percent/ 100)\n",
    "    dim = (width, height)\n",
    "    return cv2.resize(frame, dim, interpolation =cv2.INTER_AREA)\n",
    "\n",
    "\n",
    "def calculate_distance(pointX, pointY) -> float:\n",
    "    '''\n",
    "    Calculate a distance between 2 points\n",
    "    '''\n",
    "\n",
    "    x1, y1 = pointX\n",
    "    x2, y2 = pointY\n",
    "\n",
    "    return sqrt((x2 - x1) ** 2 + (y2 - y1) ** 2)"
   ],
   "outputs": []
  },
  {
   "cell_type": "code",
   "execution_count": 3,
   "metadata": {},
   "source": [
    "df = pd.DataFrame(columns=[\"video\", \"stage\", \"shoulder_width\", \"feet_width\", \"knee_width\"])\n",
    "\n",
    "df"
   ],
   "outputs": []
  },
  {
   "cell_type": "markdown",
   "metadata": {},
   "source": [
    "### 1. Extract data from video"
   ]
  },
  {
   "cell_type": "code",
   "execution_count": 4,
   "metadata": {},
   "source": [
    "# Load machine learning model\n",
    "import pickle\n",
    "\n",
    "with open(\"./model/squat_model.pkl\", \"rb\") as f:\n",
    "    trained_model = pickle.load(f)\n",
    "\n",
    "# Prepare for processing input\n",
    "IMPORTANT_LMS = [\n",
    "    \"NOSE\",\n",
    "    \"LEFT_SHOULDER\",\n",
    "    \"RIGHT_SHOULDER\",\n",
    "    \"LEFT_HIP\",\n",
    "    \"RIGHT_HIP\",\n",
    "    \"LEFT_KNEE\",\n",
    "    \"RIGHT_KNEE\",\n",
    "    \"LEFT_ANKLE\",\n",
    "    \"RIGHT_ANKLE\"\n",
    "]\n",
    "\n",
    "headers = [\"label\"] # Label column\n",
    "\n",
    "for lm in IMPORTANT_LMS:\n",
    "    headers += [f\"{lm.lower()}_x\", f\"{lm.lower()}_y\", f\"{lm.lower()}_z\", f\"{lm.lower()}_v\"]\n",
    "\n",
    "\n",
    "def extract_important_keypoints(results) -> list:\n",
    "    '''\n",
    "    Extract important keypoints from mediapipe pose detection\n",
    "    '''\n",
    "    landmarks = results.pose_landmarks.landmark\n",
    "\n",
    "    data = []\n",
    "    for lm in IMPORTANT_LMS:\n",
    "        keypoint = landmarks[mp_pose.PoseLandmark[lm].value]\n",
    "        data.append([keypoint.x, keypoint.y, keypoint.z, keypoint.visibility])\n",
    "    \n",
    "    return np.array(data).flatten().tolist()"
   ],
   "outputs": []
  },
  {
   "cell_type": "code",
   "execution_count": 10,
   "metadata": {},
   "source": [
    "video = \"squat_right_4.mp4\"\n",
    "cap = cv2.VideoCapture(f\"../data/squat/{video}\")\n",
    "\n",
    "current_stage = \"\"\n",
    "prediction_probability_threshold = 0.8\n",
    "\n",
    "with mp_pose.Pose(min_detection_confidence=0.5, min_tracking_confidence=0.5) as pose:\n",
    "    while cap.isOpened():\n",
    "        ret, image = cap.read()\n",
    "\n",
    "        if not ret:\n",
    "            break\n",
    "\n",
    "        # Recolor image from BGR to RGB for mediapipe\n",
    "        image = cv2.cvtColor(image, cv2.COLOR_BGR2RGB)\n",
    "        image.flags.writeable = False\n",
    "\n",
    "        results = pose.process(image)\n",
    "        # Calculate and compare the distance of 2 ankle and shoulder width\n",
    "        if not results.pose_landmarks:\n",
    "            continue\n",
    "        \n",
    "        # Recolor image from BGR to RGB for mediapipe\n",
    "        image.flags.writeable = True\n",
    "        image = cv2.cvtColor(image, cv2.COLOR_RGB2BGR)\n",
    "\n",
    "        shoulder_width = feet_width = None\n",
    "\n",
    "        try:\n",
    "            # Extract keypoints from frame for the input\n",
    "            row = extract_important_keypoints(results)\n",
    "            X = pd.DataFrame([row], columns=headers[1:])\n",
    "\n",
    "            # Make prediction and its probability\n",
    "            predicted_class = trained_model.predict(X)[0]\n",
    "            prediction_probability = trained_model.predict_proba(X)[0]\n",
    "\n",
    "            # Evaluate model prediction for the current stage\n",
    "            if prediction_probability[prediction_probability.argmax()] >= prediction_probability_threshold:\n",
    "                if predicted_class == \"down\":\n",
    "                    current_stage = \"down\"\n",
    "                elif current_stage == \"middle\" and predicted_class == \"up\":\n",
    "                    current_stage = \"up\"\n",
    "            else:\n",
    "                current_stage = \"middle\"\n",
    "            \n",
    "            # Calculate and compare the distance of 2 ankle and shoulder width\n",
    "            landmarks = results.pose_landmarks.landmark\n",
    "\n",
    "            # * Calculate shoulder width\n",
    "            left_shoulder = [landmarks[mp_pose.PoseLandmark.LEFT_SHOULDER.value].x, landmarks[mp_pose.PoseLandmark.LEFT_SHOULDER.value].y]\n",
    "            right_shoulder = [landmarks[mp_pose.PoseLandmark.RIGHT_SHOULDER.value].x, landmarks[mp_pose.PoseLandmark.RIGHT_SHOULDER.value].y]\n",
    "\n",
    "            shoulder_width = calculate_distance(left_shoulder, right_shoulder)\n",
    "\n",
    "            # * Calculate 2-foot width\n",
    "            left_foot_index = [landmarks[mp_pose.PoseLandmark.LEFT_FOOT_INDEX.value].x, landmarks[mp_pose.PoseLandmark.LEFT_FOOT_INDEX.value].y]\n",
    "            right_foot_index = [landmarks[mp_pose.PoseLandmark.RIGHT_FOOT_INDEX.value].x, landmarks[mp_pose.PoseLandmark.RIGHT_FOOT_INDEX.value].y]\n",
    "\n",
    "            feet_width = calculate_distance(left_foot_index, right_foot_index)\n",
    "            \n",
    "            # * Calculate 2-knee width\n",
    "            left_knee = [landmarks[mp_pose.PoseLandmark.LEFT_KNEE.value].x, landmarks[mp_pose.PoseLandmark.LEFT_KNEE.value].y]\n",
    "            right_knee = [landmarks[mp_pose.PoseLandmark.RIGHT_KNEE.value].x, landmarks[mp_pose.PoseLandmark.RIGHT_KNEE.value].y]\n",
    "\n",
    "            knee_width = calculate_distance(left_knee, right_knee)\n",
    "\n",
    "            # Visualization\n",
    "            # Status box\n",
    "            cv2.rectangle(image, (0, 0), (500, 60), (245, 117, 16), -1)\n",
    "\n",
    "            # Display feet distance\n",
    "            cv2.putText(image, \"FEET\", (15, 12), cv2.FONT_HERSHEY_COMPLEX, 0.5, (0, 0, 0), 1, cv2.LINE_AA)\n",
    "            cv2.putText(image, str(round(feet_width, 2)), (10, 40), cv2.FONT_HERSHEY_COMPLEX, 1, (255, 255, 255), 2, cv2.LINE_AA)\n",
    "\n",
    "            # Display shoulder distance\n",
    "            cv2.putText(image, \"SHOULDER\", (95, 12), cv2.FONT_HERSHEY_COMPLEX, 0.5, (0, 0, 0), 1, cv2.LINE_AA)\n",
    "            cv2.putText(image, str(round(shoulder_width, 2)), (90, 40), cv2.FONT_HERSHEY_COMPLEX, 1, (255, 255, 255), 2, cv2.LINE_AA)\n",
    "\n",
    "            # Display knee distance\n",
    "            cv2.putText(image, \"KNEE\", (205, 12), cv2.FONT_HERSHEY_COMPLEX, 0.5, (0, 0, 0), 1, cv2.LINE_AA)\n",
    "            cv2.putText(image, str(round(knee_width, 2)), (200, 40), cv2.FONT_HERSHEY_COMPLEX, 1, (255, 255, 255), 2, cv2.LINE_AA)\n",
    "\n",
    "            # Display knee distance\n",
    "            cv2.putText(image, \"STAGE\", (305, 12), cv2.FONT_HERSHEY_COMPLEX, 0.5, (0, 0, 0), 1, cv2.LINE_AA)\n",
    "            cv2.putText(image, current_stage, (300, 40), cv2.FONT_HERSHEY_COMPLEX, 1, (255, 255, 255), 2, cv2.LINE_AA)\n",
    "        except Exception as e:\n",
    "            print(f\"Error: {e}\")\n",
    "\n",
    "        # Draw landmarks and connections\n",
    "        mp_drawing.draw_landmarks(image, results.pose_landmarks, mp_pose.POSE_CONNECTIONS, mp_drawing.DrawingSpec(color=(244, 117, 66), thickness=2, circle_radius=4), mp_drawing.DrawingSpec(color=(245, 66, 230), thickness=2, circle_radius=2))\n",
    "\n",
    "        cv2.imshow(\"CV2\", image)\n",
    "\n",
    "        # Pressed key for action\n",
    "        k = cv2.waitKey(1) & 0xFF\n",
    "\n",
    "        # Press C to add to df\n",
    "        if k == ord('c'): \n",
    "            df = df.append({ \"video\": video, \"stage\": current_stage, \"shoulder_width\": shoulder_width, \"feet_width\": feet_width, \"knee_width\": knee_width }, ignore_index=True)\n",
    "\n",
    "        # Press q to stop\n",
    "        elif k == ord(\"q\"):\n",
    "            break\n",
    "        else: continue\n",
    "\n",
    "    cap.release()\n",
    "    cv2.destroyAllWindows()\n",
    "\n",
    "    # (Optional)Fix bugs cannot close windows in MacOS (https://stackoverflow.com/questions/6116564/destroywindow-does-not-close-window-on-mac-using-python-and-opencv)\n",
    "    for i in range (1, 5):\n",
    "        cv2.waitKey(1)"
   ],
   "outputs": []
  },
  {
   "cell_type": "code",
   "execution_count": 11,
   "metadata": {},
   "source": [
    "df"
   ],
   "outputs": []
  },
  {
   "cell_type": "markdown",
   "metadata": {},
   "source": [
    "### 2. Analyze the foot placement relate to the shoulder width"
   ]
  },
  {
   "cell_type": "code",
   "execution_count": 15,
   "metadata": {},
   "source": [
    "df[\"ratio_feet_shoulder\"] = df[\"feet_width\"] / df[\"shoulder_width\"]\n",
    "\n",
    "# Round up the value\n",
    "# df[\"ratio_feet_shoulder\"] = [round(row, 1) for row in df[\"ratio_feet_shoulder\"]]\n",
    "\n",
    "df.head(5)"
   ],
   "outputs": []
  },
  {
   "cell_type": "markdown",
   "metadata": {},
   "source": [
    "#### 2.1. Describe data"
   ]
  },
  {
   "cell_type": "code",
   "execution_count": 25,
   "metadata": {},
   "source": [
    "mean = df[\"ratio_feet_shoulder\"].mean(axis=0)\n",
    "min_val = df[\"ratio_feet_shoulder\"].min()\n",
    "max_val = df[\"ratio_feet_shoulder\"].max()\n",
    "\n",
    "print(\n",
    "f'''\n",
    "Mean value of the ratio between shoulder width and 2 foot: {mean}\n",
    "Max value of the ratio between shoulder width and 2 foot: {max_val}\n",
    "Min value of the ratio between shoulder width and 2 foot: {min_val}\n",
    "'''\n",
    ")\n"
   ],
   "outputs": []
  },
  {
   "cell_type": "markdown",
   "metadata": {},
   "source": [
    "#### 2.2 Conclusion\n",
    "\n",
    "According to the analyzed data extracted from the dataset:\n",
    "\n",
    "1. Feet distance usually wider compare to shoulder distance\n",
    "1. The mean ratio between the 2 is 1.8\n",
    "1. **Conclusion**:\n",
    "    - Feet distance / shoulder width < 1.2 => **Foot placement is too tight**\n",
    "    - Feet distance / shoulder width > 2.8 => **Foot placement is too wide**\n",
    "    - Else: => **Correct form**"
   ]
  },
  {
   "cell_type": "markdown",
   "metadata": {},
   "source": [
    "### 3. Analyze knee position during the workout"
   ]
  },
  {
   "cell_type": "code",
   "execution_count": 18,
   "metadata": {},
   "source": [
    "df[\"ratio_knee_feet\"] = df[\"knee_width\"] / df[\"feet_width\"]\n",
    "# df[\"ratio_knee_feet\"] = [round(row, 1) for row in df[\"ratio_knee_feet\"]] # round up\n",
    "\n",
    "df.head(5)"
   ],
   "outputs": []
  },
  {
   "cell_type": "markdown",
   "metadata": {},
   "source": [
    "#### 3.1 Describe and analyze data\n",
    "\n",
    "There are 3 stages of a squat to analyze: UP, MIDDLE, DOWN"
   ]
  },
  {
   "cell_type": "code",
   "execution_count": 27,
   "metadata": {},
   "source": [
    "mean = df[\"ratio_knee_feet\"].mean(axis=0)\n",
    "min_val = df[\"ratio_knee_feet\"].min()\n",
    "max_val = df[\"ratio_knee_feet\"].max()\n",
    "\n",
    "print(\n",
    "f'''\n",
    "Mean value of the ratio between 2 knee width and 2 foot: {mean}\n",
    "Max value of the ratio between 2 knee width and 2 foot: {max_val}\n",
    "Min value of the ratio between 2 knee width and 2 foot: {min_val}\n",
    "'''\n",
    ")"
   ],
   "outputs": []
  },
  {
   "cell_type": "markdown",
   "metadata": {},
   "source": [
    "**UP position**"
   ]
  },
  {
   "cell_type": "code",
   "execution_count": 29,
   "metadata": {},
   "source": [
    "df_ration_knee_feet = df[ df[\"stage\"] == \"up\" ][\"ratio_knee_feet\"]\n",
    "\n",
    "mean = df_ration_knee_feet.mean(axis=0)\n",
    "min_val = df_ration_knee_feet.min()\n",
    "max_val = df_ration_knee_feet.max()\n",
    "\n",
    "print(\n",
    "f'''\n",
    "Mean value of the ratio between 2 knee width and 2 foot in UP position: {mean}\n",
    "Max value of the ratio between 2 knee width and 2 foot in UP position: {max_val}\n",
    "Min value of the ratio between 2 knee width and 2 foot in UP position: {min_val}\n",
    "'''\n",
    ")"
   ],
   "outputs": []
  },
  {
   "cell_type": "markdown",
   "metadata": {},
   "source": [
    "**MIDDLE position**"
   ]
  },
  {
   "cell_type": "code",
   "execution_count": 30,
   "metadata": {},
   "source": [
    "df_ration_knee_feet = df[ df[\"stage\"] == \"middle\" ][\"ratio_knee_feet\"]\n",
    "\n",
    "mean = df_ration_knee_feet.mean(axis=0)\n",
    "min_val = df_ration_knee_feet.min()\n",
    "max_val = df_ration_knee_feet.max()\n",
    "\n",
    "print(\n",
    "f'''\n",
    "Mean value of the ratio between 2 knee width and 2 foot in MIDDLE position: {mean}\n",
    "Max value of the ratio between 2 knee width and 2 foot in MIDDLE position: {max_val}\n",
    "Min value of the ratio between 2 knee width and 2 foot in MIDDLE position: {min_val}\n",
    "'''\n",
    ")"
   ],
   "outputs": []
  },
  {
   "cell_type": "markdown",
   "metadata": {},
   "source": [
    "**DOWN position**"
   ]
  },
  {
   "cell_type": "code",
   "execution_count": 31,
   "metadata": {},
   "source": [
    "df_ration_knee_feet = df[ df[\"stage\"] == \"down\" ][\"ratio_knee_feet\"]\n",
    "\n",
    "mean = df_ration_knee_feet.mean(axis=0)\n",
    "min_val = df_ration_knee_feet.min()\n",
    "max_val = df_ration_knee_feet.max()\n",
    "\n",
    "print(\n",
    "f'''\n",
    "Mean value of the ratio between 2 knee width and 2 foot in DOWN position: {mean}\n",
    "Max value of the ratio between 2 knee width and 2 foot in DOWN position: {max_val}\n",
    "Min value of the ratio between 2 knee width and 2 foot in DOWN position: {min_val}\n",
    "'''\n",
    ")"
   ],
   "outputs": []
  },
  {
   "cell_type": "code",
   "execution_count": 32,
   "metadata": {},
   "source": [
    "test = df[ (df[\"ratio_knee_feet\"] == 0.7) & (df[\"stage\"] == \"down\") ]\n",
    "test\n",
    "\n",
    "# df = df[ (df[\"ratio_knee_feet\"] != 0.4) ]"
   ],
   "outputs": []
  },
  {
   "cell_type": "markdown",
   "metadata": {},
   "source": [
    "#### 3.2 Conclusion\n",
    "\n",
    "According to the analyzed data extracted from the dataset:\n",
    "\n",
    "- In **UP** position:\n",
    "    1. Knee distance usually tighter compare to foot distance\n",
    "    1. The mean ratio between knee/foot is 0.63\n",
    "    1. **Conclusion**:\n",
    "        - Knee distance / foot width < 0.5 => **2 Knees are too tight**\n",
    "        - Knee distance / foot width > 1.0 => **2 Knees are too wide**\n",
    "        - Else: => **Correct form**\n",
    "\n",
    "- In **MIDDLE** position:\n",
    "    1. Knee distance usually equals compare to foot distance\n",
    "    1. The mean ratio between knee/foot is 0.8\n",
    "    1. **Conclusion**:\n",
    "        - Knee distance / foot width < 0.7 => **2 Knees are too tight**\n",
    "        - Knee distance / foot width > 1.0 => **2 Knees are too wide**\n",
    "        - Else: => **Correct form**\n",
    "\n",
    "- In **DOWN** position:\n",
    "    1. Knee distance usually equals or a little bit wider compare to foot distance\n",
    "    1. The mean ratio between knee/foot is 0.8\n",
    "    1. **Conclusion**:\n",
    "        - Knee distance / foot width < 0.7 => **2 Knees are too tight**\n",
    "        - Knee distance / foot width > 1.1 => **2 Knees are too wide**\n",
    "        - Else: => **Correct form**"
   ]
  },
  {
   "cell_type": "markdown",
   "metadata": {},
   "source": [
    "### 4. Save Analysis CSV"
   ]
  },
  {
   "cell_type": "code",
   "execution_count": 34,
   "metadata": {},
   "source": [
    "df.to_csv(\"./analyze_pose.csv\", sep=',', encoding='utf-8', index=False)"
   ],
   "outputs": []
  },
  {
   "cell_type": "code",
   "execution_count": 7,
   "metadata": {},
   "source": [
    "df = pd.read_csv(\"./analyze_pose.csv\")\n",
    "df = df.reset_index()"
   ],
   "outputs": []
  },
  {
   "cell_type": "code",
   "execution_count": 14,
   "metadata": {},
   "source": [
    "df.head(10)\n",
    "df.describe()"
   ],
   "outputs": []
  },
  {
   "cell_type": "code",
   "execution_count": 16,
   "metadata": {},
   "source": [
    "# Set Theme:\n",
    "sns.set_style('whitegrid')\n",
    "\n",
    "# Creating Strip plot for day-wise revenue:\n",
    "sns.swarmplot(y=\"ratio_feet_shoulder\", data=df, palette=\"viridis\")"
   ],
   "outputs": []
  },
  {
   "cell_type": "code",
   "execution_count": 20,
   "metadata": {},
   "source": [
    "# Set Theme:\n",
    "sns.set_style('whitegrid')\n",
    "\n",
    "# Creating Strip plot for day-wise revenue:\n",
    "sns.swarmplot(x='stage', y=\"ratio_knee_feet\", data=df, palette=\"viridis\")"
   ],
   "outputs": []
  },
  {
   "cell_type": "code",
   "execution_count": null,
   "metadata": {},
   "source": [],
   "outputs": []
  }
 ],
 "metadata": {
  "kernelspec": {
   "display_name": "Python 3.8.13 (conda)",
   "language": "python",
   "name": "python3"
  },
  "language_info": {
   "codemirror_mode": {
    "name": "ipython",
    "version": 3
   },
   "file_extension": ".py",
   "mimetype": "text/x-python",
   "name": "python",
   "nbconvert_exporter": "python",
   "pygments_lexer": "ipython3",
   "version": "3.8.13"
  },
  "orig_nbformat": 4,
  "vscode": {
   "interpreter": {
    "hash": "9260f401923fb5c4108c543a7d176de9733d378b3752e49535ad7c43c2271b65"
   }
  }
 },
 "nbformat": 4,
 "nbformat_minor": 2
}
